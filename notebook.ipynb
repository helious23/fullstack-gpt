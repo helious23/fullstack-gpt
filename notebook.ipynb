{
 "cells": [
  {
   "cell_type": "code",
   "execution_count": 3,
   "metadata": {},
   "outputs": [
    {
     "name": "stdout",
     "output_type": "stream",
     "text": [
      "\u001b[32;1m\u001b[1;3m[llm/start]\u001b[0m \u001b[1m[1:llm:ChatOpenAI] Entering LLM run with input:\n",
      "\u001b[0m{\n",
      "  \"prompts\": [\n",
      "    \"Human: What is the recipe for soju?\"\n",
      "  ]\n",
      "}\n",
      "\u001b[36;1m\u001b[1;3m[llm/end]\u001b[0m \u001b[1m[1:llm:ChatOpenAI] [2ms] Exiting LLM run with output:\n",
      "\u001b[0m{\n",
      "  \"generations\": [\n",
      "    [\n",
      "      {\n",
      "        \"text\": \"Soju is a traditional Korean distilled alcoholic beverage. Here is a simple recipe to make soju at home:\\n\\nIngredients:\\n- 1 cup of rice\\n- 1 cup of nuruk (Korean fermentation starter)\\n- 10 cups of water\\n- 1 cup of sugar\\n\\nInstructions:\\n1. Rinse the rice thoroughly until the water runs clear.\\n2. Soak the rice in water for about 1 hour, then drain.\\n3. Steam the rice until it becomes soft and fully cooked.\\n4. Allow the cooked rice to cool down to room temperature.\\n5. In a large container, combine the cooled rice, nuruk, and water.\\n6. Mix well until the nuruk is fully dissolved.\\n7. Cover the container with a clean cloth or plastic wrap and let it ferment for about 7-10 days at room temperature.\\n8. Stir the mixture gently every day to prevent the rice from settling at the bottom.\\n9. After the fermentation period, strain the mixture through a cheesecloth or fine mesh strainer to remove any solids.\\n10. Add sugar to the strained liquid and stir until fully dissolved.\\n11. Transfer the liquid to a clean bottle or jar and seal it tightly.\\n12. Store the soju in a cool, dark place for at least 1-2 weeks to allow it to mature and develop flavor.\\n13. Once the soju has aged, it is ready to be enjoyed. Serve it chilled or at room temperature.\\n\\nNote: This recipe is a simplified version of traditional soju-making, which typically involves multiple distillations. The homemade version may not have the same alcohol content as commercially produced soju.\",\n",
      "        \"generation_info\": {\n",
      "          \"finish_reason\": \"stop\"\n",
      "        },\n",
      "        \"type\": \"ChatGeneration\",\n",
      "        \"message\": {\n",
      "          \"lc\": 1,\n",
      "          \"type\": \"constructor\",\n",
      "          \"id\": [\n",
      "            \"langchain\",\n",
      "            \"schema\",\n",
      "            \"messages\",\n",
      "            \"AIMessage\"\n",
      "          ],\n",
      "          \"kwargs\": {\n",
      "            \"content\": \"Soju is a traditional Korean distilled alcoholic beverage. Here is a simple recipe to make soju at home:\\n\\nIngredients:\\n- 1 cup of rice\\n- 1 cup of nuruk (Korean fermentation starter)\\n- 10 cups of water\\n- 1 cup of sugar\\n\\nInstructions:\\n1. Rinse the rice thoroughly until the water runs clear.\\n2. Soak the rice in water for about 1 hour, then drain.\\n3. Steam the rice until it becomes soft and fully cooked.\\n4. Allow the cooked rice to cool down to room temperature.\\n5. In a large container, combine the cooled rice, nuruk, and water.\\n6. Mix well until the nuruk is fully dissolved.\\n7. Cover the container with a clean cloth or plastic wrap and let it ferment for about 7-10 days at room temperature.\\n8. Stir the mixture gently every day to prevent the rice from settling at the bottom.\\n9. After the fermentation period, strain the mixture through a cheesecloth or fine mesh strainer to remove any solids.\\n10. Add sugar to the strained liquid and stir until fully dissolved.\\n11. Transfer the liquid to a clean bottle or jar and seal it tightly.\\n12. Store the soju in a cool, dark place for at least 1-2 weeks to allow it to mature and develop flavor.\\n13. Once the soju has aged, it is ready to be enjoyed. Serve it chilled or at room temperature.\\n\\nNote: This recipe is a simplified version of traditional soju-making, which typically involves multiple distillations. The homemade version may not have the same alcohol content as commercially produced soju.\",\n",
      "            \"additional_kwargs\": {}\n",
      "          }\n",
      "        }\n",
      "      }\n",
      "    ]\n",
      "  ],\n",
      "  \"llm_output\": null,\n",
      "  \"run\": null\n",
      "}\n",
      "\u001b[32;1m\u001b[1;3m[llm/start]\u001b[0m \u001b[1m[1:llm:ChatOpenAI] Entering LLM run with input:\n",
      "\u001b[0m{\n",
      "  \"prompts\": [\n",
      "    \"Human: What is the recipe of bread?\"\n",
      "  ]\n",
      "}\n"
     ]
    }
   ],
   "source": [
    "from langchain.chat_models import ChatOpenAI\n",
    "from langchain.callbacks import get_openai_callback\n",
    "\n",
    "chat = ChatOpenAI(\n",
    "    temperature=0.1,\n",
    ")\n",
    "\n",
    "\n",
    "with get_openai_callback() as usage:\n",
    "    a = chat.predict(\"What is the recipe for soju?\")\n",
    "    b = chat.predict(\"What is the recipe of bread?\")\n",
    "    print(a, b, \"\\n\")\n",
    "    print(usage)"
   ]
  },
  {
   "cell_type": "code",
   "execution_count": null,
   "metadata": {},
   "outputs": [],
   "source": []
  }
 ],
 "metadata": {
  "kernelspec": {
   "display_name": "env",
   "language": "python",
   "name": "python3"
  },
  "language_info": {
   "codemirror_mode": {
    "name": "ipython",
    "version": 3
   },
   "file_extension": ".py",
   "mimetype": "text/x-python",
   "name": "python",
   "nbconvert_exporter": "python",
   "pygments_lexer": "ipython3",
   "version": "3.9.18"
  }
 },
 "nbformat": 4,
 "nbformat_minor": 2
}
