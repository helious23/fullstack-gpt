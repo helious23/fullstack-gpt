{
 "cells": [
  {
   "cell_type": "code",
   "execution_count": 1,
   "metadata": {},
   "outputs": [
    {
     "name": "stdout",
     "output_type": "stream",
     "text": [
      "Tom's character is described as gruff and fractious, with a husky tenor voice. He exudes a sense of superiority and paternal contempt, even towards those he likes. He is strong and wants to be liked, but there is a harsh and defiant wistfulness about him. He is a member of the Senior Society and seems to approve of the narrator. He owns a nice place with a sunken Italian garden and a motor boat. Inside his house, there is a bright and rosy-colored space with French windows. The room is filled with movement, from the breeze blowing through the curtains to the rippling of the wine-colored rug. Tom shuts the windows, bringing stillness to the room. There are two young women on a large couch, dressed in white and appearing as if they were just blown back in after a flight. Tom's character is not fully explored in this passage, but these details provide some insight into his demeanor and surroundings.Tom Buchanan is described as a physically powerful and dominant man. He is portrayed as having a hard mouth and a supercilious manner, with shining, arrogant eyes that give him an aggressive appearance. Despite his effeminate riding clothes, his body is described as muscular and capable of enormous leverage. Overall, Tom's character is depicted as cruel and dominant.Tom's character can be described as violent, pessimistic, and concerned about the decline of civilization. He is described as getting profound and reading deep books with long words. He believes in the idea of the white race being dominant and feels the need to beat down other races to maintain control. He is also shown to be somewhat insecure, seeking validation and inclusion from others.Based on the given text, Tom's character is not explicitly described. However, some characteristics can be inferred. He is mentioned as being absent when Daisy gave birth to their daughter, indicating a lack of responsibility or commitment. Additionally, his absence during the conversation suggests a lack of interest or engagement in the conversation. Tom is also mentioned as sitting with Miss Baker, listening to her read aloud, which implies a level of comfort and familiarity between them. Overall, Tom's character appears to be indifferent, possibly self-absorbed, and not actively involved in the conversation or the lives of those around him.Tom's character is described as gruff, fractious, and having a husky tenor voice. He exudes a sense of superiority and paternal contempt, even towards those he likes. He is strong and wants to be liked, but there is a harsh and defiant wistfulness about him. He is a member of the Senior Society and seems to approve of the narrator. He owns a nice place with a sunken Italian garden and a motor boat. Inside his house, there is a bright and rosy-colored space with French windows. The room is filled with movement, from the breeze blowing through the curtains to the rippling of the wine-colored rug. Tom shuts the windows, bringing stillness to the room. There are two young women on a large couch, dressed in white and appearing as if they were just blown back in after a flight. Tom's character is not fully explored in this passage, but these details provide some insight into his demeanor and surroundings."
     ]
    },
    {
     "data": {
      "text/plain": [
       "AIMessageChunk(content=\"Tom's character is described as gruff, fractious, and having a husky tenor voice. He exudes a sense of superiority and paternal contempt, even towards those he likes. He is strong and wants to be liked, but there is a harsh and defiant wistfulness about him. He is a member of the Senior Society and seems to approve of the narrator. He owns a nice place with a sunken Italian garden and a motor boat. Inside his house, there is a bright and rosy-colored space with French windows. The room is filled with movement, from the breeze blowing through the curtains to the rippling of the wine-colored rug. Tom shuts the windows, bringing stillness to the room. There are two young women on a large couch, dressed in white and appearing as if they were just blown back in after a flight. Tom's character is not fully explored in this passage, but these details provide some insight into his demeanor and surroundings.\")"
      ]
     },
     "execution_count": 1,
     "metadata": {},
     "output_type": "execute_result"
    }
   ],
   "source": [
    "from langchain.chat_models import ChatOpenAI\n",
    "from langchain.document_loaders import UnstructuredFileLoader\n",
    "from langchain.text_splitter import CharacterTextSplitter\n",
    "from langchain.embeddings import OpenAIEmbeddings, CacheBackedEmbeddings\n",
    "from langchain.vectorstores import FAISS\n",
    "from langchain.storage import LocalFileStore\n",
    "from langchain.prompts import ChatPromptTemplate\n",
    "from langchain.schema.runnable import RunnablePassthrough, RunnableLambda\n",
    "from langchain.callbacks import StreamingStdOutCallbackHandler\n",
    "\n",
    "\n",
    "llm = ChatOpenAI(\n",
    "    temperature=0.1,\n",
    "    verbose=True,\n",
    "    streaming=True,\n",
    "    callbacks=[StreamingStdOutCallbackHandler()],\n",
    ")\n",
    "\n",
    "cache_dir = LocalFileStore(\"./.cache/\")\n",
    "\n",
    "splitter = CharacterTextSplitter.from_tiktoken_encoder(\n",
    "    separator=\"\\n\",\n",
    "    chunk_size=600,\n",
    "    chunk_overlap=100,\n",
    ")\n",
    "loader = UnstructuredFileLoader(\"./files/chapter_one.md\")\n",
    "\n",
    "docs = loader.load_and_split(text_splitter=splitter)\n",
    "\n",
    "embeddings = OpenAIEmbeddings()\n",
    "\n",
    "cached_embeddings = CacheBackedEmbeddings.from_bytes_store(embeddings, cache_dir)\n",
    "\n",
    "vectorstore = FAISS.from_documents(docs, cached_embeddings)\n",
    "\n",
    "retriver = vectorstore.as_retriever()\n",
    "\n",
    "\n",
    "map_doc_prompt = ChatPromptTemplate.from_messages(\n",
    "    [\n",
    "        (\n",
    "            \"system\",\n",
    "            \"\"\"\n",
    "            Use the following portion of a long document to see if any of the text is relevant to answer the question. Return any relevant text verbatim.\n",
    "            ----------\n",
    "            {context}\n",
    "            \"\"\",\n",
    "        ),\n",
    "        (\"human\", \"{question}\"),\n",
    "    ]\n",
    ")\n",
    "\n",
    "map_doc_chain = map_doc_prompt | llm\n",
    "\n",
    "\n",
    "def map_docs(inputs):\n",
    "    documents = inputs[\"documents\"]\n",
    "    question = inputs[\"question\"]\n",
    "\n",
    "    # results = []\n",
    "    # for document in documents:\n",
    "    #     result = map_doc_chain.invoke(\n",
    "    #         {\"context\": document.page_content, \"question\": question}\n",
    "    #     ).content\n",
    "    #     results.append(result)\n",
    "    # return \"\\n\\n\".join(results)\n",
    "\n",
    "    return \"\\n\\n\".join(\n",
    "        map_doc_chain.invoke(\n",
    "            {\"context\": doc.page_content, \"question\": question}\n",
    "        ).content\n",
    "        for doc in documents\n",
    "    )\n",
    "\n",
    "\n",
    "map_chain = {\n",
    "    \"documents\": retriver,\n",
    "    \"question\": RunnablePassthrough(),\n",
    "} | RunnableLambda(map_docs)\n",
    "\n",
    "\n",
    "final_prompt = ChatPromptTemplate.from_messages(\n",
    "    [\n",
    "        (\n",
    "            \"system\",\n",
    "            \"\"\"\n",
    "         Given the following extracted parts of a long documnet and a question, create a final answer.\n",
    "         If you don't know the answer, just say that you don't know. Don't try to make up an answer.\n",
    "        ----------\n",
    "        {context}\n",
    "         \"\"\",\n",
    "        ),\n",
    "        (\"human\", \"{question}\"),\n",
    "    ]\n",
    ")\n",
    "\n",
    "\n",
    "chain = {\"context\": map_chain, \"question\": RunnablePassthrough()} | final_prompt | llm\n",
    "\n",
    "chain.invoke(\"Describe Tom's character\")"
   ]
  },
  {
   "cell_type": "code",
   "execution_count": null,
   "metadata": {},
   "outputs": [],
   "source": []
  }
 ],
 "metadata": {
  "kernelspec": {
   "display_name": "env",
   "language": "python",
   "name": "python3"
  },
  "language_info": {
   "codemirror_mode": {
    "name": "ipython",
    "version": 3
   },
   "file_extension": ".py",
   "mimetype": "text/x-python",
   "name": "python",
   "nbconvert_exporter": "python",
   "pygments_lexer": "ipython3",
   "version": "3.9.18"
  }
 },
 "nbformat": 4,
 "nbformat_minor": 2
}
