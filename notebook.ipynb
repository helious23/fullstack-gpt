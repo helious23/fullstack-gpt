{
 "cells": [
  {
   "cell_type": "code",
   "execution_count": 19,
   "metadata": {},
   "outputs": [
    {
     "data": {
      "text/plain": [
       "'Based on the new context provided, Tom\\'s character can be further described as emotionally absent and indifferent towards his family. The conversation between Nick and Tom\\'s wife reveals that Tom was absent during the birth of their child, leaving her feeling abandoned and alone. Tom\\'s physical absence during such an important moment suggests a lack of emotional connection or investment in his family. This is further emphasized by his wife\\'s comment about hoping their daughter will be a \"fool\" in this world, implying that she believes intelligence or depth of character may not be valued or appreciated in their relationship. Additionally, Tom\\'s wife mentions feeling cynical and disillusioned about everything, which could indicate that Tom\\'s character may contribute to her pessimistic outlook on life. Overall, Tom\\'s character is portrayed as emotionally detached, indifferent, and possibly neglectful towards his family.'"
      ]
     },
     "execution_count": 19,
     "metadata": {},
     "output_type": "execute_result"
    }
   ],
   "source": [
    "from langchain.chat_models import ChatOpenAI\n",
    "from langchain.document_loaders import UnstructuredFileLoader\n",
    "from langchain.text_splitter import CharacterTextSplitter\n",
    "from langchain.embeddings import OpenAIEmbeddings, CacheBackedEmbeddings\n",
    "from langchain.vectorstores import FAISS\n",
    "from langchain.storage import LocalFileStore\n",
    "from langchain.chains import RetrievalQA\n",
    "\n",
    "llm = ChatOpenAI()\n",
    "\n",
    "cache_dir = LocalFileStore(\"./.cache/\")\n",
    "\n",
    "splitter = CharacterTextSplitter.from_tiktoken_encoder(\n",
    "    separator=\"\\n\",\n",
    "    chunk_size=600,\n",
    "    chunk_overlap=100,\n",
    ")\n",
    "loader = UnstructuredFileLoader(\"./files/chapter_one.md\")\n",
    "\n",
    "docs = loader.load_and_split(text_splitter=splitter)\n",
    "\n",
    "embeddings = OpenAIEmbeddings()\n",
    "\n",
    "cached_embeddings = CacheBackedEmbeddings.from_bytes_store(embeddings, cache_dir)\n",
    "\n",
    "vectorstore = FAISS.from_documents(docs, cached_embeddings)\n",
    "\n",
    "chain = RetrievalQA.from_chain_type(\n",
    "    llm=llm,\n",
    "    chain_type=\"refine\",\n",
    "    retriever=vectorstore.as_retriever(),\n",
    ")\n",
    "\n",
    "chain.run(\"Describe Tom's character\")"
   ]
  },
  {
   "cell_type": "code",
   "execution_count": 21,
   "metadata": {},
   "outputs": [
    {
     "data": {
      "text/plain": [
       "'Tom\\'s character can be described as gruff, fractious, and displaying a touch of paternal contempt. He has a strong and husky voice, which he uses to assert his dominance over others. Despite his harsh demeanor, he seems to want approval and friendship, albeit with a defiant wistfulness. He is also described as physically strong and more of a man than others. He is physically powerful and dominant, with a sturdy build and straw-colored hair. He has a hard mouth and a supercilious manner, with arrogant eyes that give him an aggressive appearance. The narrator also suggests that Tom has a cruel nature and is constantly seeking dramatic turbulence in his life. Tom is also described as pessimistic, concerned about the decline of civilization, and holding strong beliefs about race. He mentions being a \"terrible pessimist\" and expresses his concerns about the potential submersion of the white race. He references a book called \"The Rise of the Coloured Empires\" and insists that it is important for everyone to read it. Tom also believes in the idea of the dominant race and the need to \"beat down\" other races. He is described as getting \"profound\" and reading \"deep books with long words.\" Overall, Tom appears to be opinionated, serious, and focused on issues of race and civilization.'"
      ]
     },
     "execution_count": 21,
     "metadata": {},
     "output_type": "execute_result"
    }
   ],
   "source": [
    "chain = RetrievalQA.from_chain_type(\n",
    "    llm=llm,\n",
    "    chain_type=\"map_reduce\",\n",
    "    retriever=vectorstore.as_retriever(),\n",
    ")\n",
    "\n",
    "chain.run(\"Describe Tom's character\")"
   ]
  },
  {
   "cell_type": "code",
   "execution_count": 23,
   "metadata": {},
   "outputs": [
    {
     "name": "stderr",
     "output_type": "stream",
     "text": [
      "/Users/max16/Desktop/NomadCoder/FULLSTACK-GPT/env/lib/python3.9/site-packages/langchain/chains/llm.py:349: UserWarning: The apply_and_parse method is deprecated, instead pass an output parser directly to LLMChain.\n",
      "  warnings.warn(\n"
     ]
    },
    {
     "data": {
      "text/plain": [
       "\"Tom's character is described as having a gruff husky tenor speaking voice, which adds to the impression of his fractiousness. He conveys a touch of paternal contempt even towards people he likes. The narrator also mentions that Tom approved of him and wanted him to like him with some harsh, defiant wistfulness of his own. Tom is shown to be strong and more of a man than the narrator. He owns a nice place with a sunken Italian garden, deep pungent roses, and a snub-nosed motor boat. Tom abruptly turns the narrator around and leads him inside the house. The house is described as having a high hallway and a bright rosy-colored space with French windows. The room has curtains that whip and snap in the wind, and a picture on the wall groans. Tom shuts the rear windows, causing the caught wind to die out. There are two young women on an enormous couch in the room, both dressed in white and their dresses rippling and fluttering as if they had just been blown back in after a short flight. The younger woman is extended full length on the divan, motionless with her chin raised. She does not acknowledge the narrator's presence. Overall, Tom's character is portrayed as strong, fractious, and somewhat contemptuous, but also desiring approval and harboring some inner wistfulness.\""
      ]
     },
     "execution_count": 23,
     "metadata": {},
     "output_type": "execute_result"
    }
   ],
   "source": [
    "chain = RetrievalQA.from_chain_type(\n",
    "    llm=llm,\n",
    "    chain_type=\"map_rerank\",\n",
    "    retriever=vectorstore.as_retriever(),\n",
    ")\n",
    "\n",
    "chain.run(\"Describe Tom's character\")"
   ]
  },
  {
   "cell_type": "code",
   "execution_count": null,
   "metadata": {},
   "outputs": [],
   "source": []
  }
 ],
 "metadata": {
  "kernelspec": {
   "display_name": "env",
   "language": "python",
   "name": "python3"
  },
  "language_info": {
   "codemirror_mode": {
    "name": "ipython",
    "version": 3
   },
   "file_extension": ".py",
   "mimetype": "text/x-python",
   "name": "python",
   "nbconvert_exporter": "python",
   "pygments_lexer": "ipython3",
   "version": "3.9.18"
  }
 },
 "nbformat": 4,
 "nbformat_minor": 2
}
